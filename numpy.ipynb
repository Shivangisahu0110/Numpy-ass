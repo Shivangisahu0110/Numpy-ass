{
 "cells": [
  {
   "cell_type": "markdown",
   "id": "aef845df-1722-42c8-a64e-b6dd41c823b2",
   "metadata": {},
   "source": [
    "Consider the below code to answer further questions:\n"
   ]
  },
  {
   "cell_type": "code",
   "execution_count": 8,
   "id": "ac54a256-d423-4ee8-ba4e-7449a8461327",
   "metadata": {},
   "outputs": [],
   "source": [
    "import numpy as np\n",
    "list_ = [ '1' , '2' , '3' , '4', '5' ]\n",
    "array_list = np.array(object = list_)"
   ]
  },
  {
   "cell_type": "markdown",
   "id": "b7d46e2b-f426-44a4-b13b-ab5598517945",
   "metadata": {},
   "source": [
    "Q1. Is there any difference in the data type of variables list_ and array_list? If there is then write a code\n",
    "to print the data types of both the variables."
   ]
  },
  {
   "cell_type": "markdown",
   "id": "a7db90df-58eb-47c0-a5b9-081d093139ce",
   "metadata": {},
   "source": [
    "\n",
    "Yes, there is a difference in the data types of the list_ and array_list variables. The list_ variable is a Python list, and the array_list variable is a NumPy array. NumPy arrays have a specific data type associated with their elements, which can be different from Python lists."
   ]
  },
  {
   "cell_type": "markdown",
   "id": "44984d08-38f0-4a73-a981-288ddcc74b79",
   "metadata": {},
   "source": [
    "Q2. Write a code to print the data type of each and every element of both the variables list_ and\n",
    "arra_list."
   ]
  },
  {
   "cell_type": "code",
   "execution_count": 3,
   "id": "eb0ddcda-9b90-49ce-8e47-4955b0efb7d6",
   "metadata": {},
   "outputs": [
    {
     "data": {
      "text/plain": [
       "list"
      ]
     },
     "execution_count": 3,
     "metadata": {},
     "output_type": "execute_result"
    }
   ],
   "source": [
    "type (list_)"
   ]
  },
  {
   "cell_type": "code",
   "execution_count": 10,
   "id": "5acbdc6a-ff1e-4c2f-8834-5607c748e4cf",
   "metadata": {},
   "outputs": [
    {
     "data": {
      "text/plain": [
       "numpy.ndarray"
      ]
     },
     "execution_count": 10,
     "metadata": {},
     "output_type": "execute_result"
    }
   ],
   "source": [
    "type(array_list)"
   ]
  },
  {
   "cell_type": "markdown",
   "id": "27817494-ca9c-433e-adfc-936bbbbf3e9b",
   "metadata": {},
   "source": [
    "Q3. Considering the following changes in the variable, array_list:\n",
    "\n",
    "array_list = np.array(object = list_, dtype = int)\n",
    "\n",
    "Will there be any difference in the data type of the elements present in both the variables, list_ and\n",
    "arra_list? If so then print the data types of each and every element present in both the variables, list_\n",
    "and arra_list.\n",
    "\n",
    "Consider the below code to answer further questions:"
   ]
  },
  {
   "cell_type": "code",
   "execution_count": 21,
   "id": "490733c1-51f4-4122-88ac-4b0d42023977",
   "metadata": {},
   "outputs": [],
   "source": [
    "array_list = np.array(object = list_, dtype = int)"
   ]
  },
  {
   "cell_type": "markdown",
   "id": "b0afbeb9-14e8-480a-b668-cf6142e7ba6c",
   "metadata": {},
   "source": [
    "Yes, there will be a difference in the data type of the elements present in both the variables, list_ and array_list, after specifying the dtype as int when creating array_list. \n",
    "\n",
    "The elements in list_ are strings, and the elements in array_list will be integers after specifying the dtype."
   ]
  },
  {
   "cell_type": "code",
   "execution_count": 17,
   "id": "f99a8d5e-e744-4ddc-a35b-95a5a4e27566",
   "metadata": {},
   "outputs": [
    {
     "name": "stdout",
     "output_type": "stream",
     "text": [
      "<class 'str'>\n",
      "<class 'str'>\n",
      "<class 'str'>\n",
      "<class 'str'>\n",
      "<class 'str'>\n"
     ]
    }
   ],
   "source": [
    "for element in list_:\n",
    "    print (type(element))"
   ]
  },
  {
   "cell_type": "code",
   "execution_count": 20,
   "id": "8cafe150-7663-49f6-96ee-467c58b2a48e",
   "metadata": {},
   "outputs": [
    {
     "name": "stdout",
     "output_type": "stream",
     "text": [
      "<class 'numpy.int64'>\n",
      "<class 'numpy.int64'>\n",
      "<class 'numpy.int64'>\n",
      "<class 'numpy.int64'>\n",
      "<class 'numpy.int64'>\n"
     ]
    }
   ],
   "source": [
    "for elements in array_list:\n",
    "    print (type(elements))"
   ]
  },
  {
   "cell_type": "code",
   "execution_count": 22,
   "id": "7989c842-7d99-4ad1-9391-0343e32d7ae7",
   "metadata": {},
   "outputs": [],
   "source": [
    "\n",
    "import numpy as np\n",
    "num_list = [ [ 1 , 2 , 3 ] , [ 4 , 5 , 6 ] ]\n",
    "num_array = np.array(object = num_list)\n"
   ]
  },
  {
   "cell_type": "markdown",
   "id": "4af84481-1216-49ec-905d-9033cb4ed883",
   "metadata": {},
   "source": [
    "In this case, num_list contains lists of integers, and num_array will also contain integers, so there won't be a difference in the data type of elements in this case. The elements in both num_list and num_array will be of type int."
   ]
  },
  {
   "cell_type": "markdown",
   "id": "971d7df9-3f5a-4f17-bbc1-f9ffaceab234",
   "metadata": {},
   "source": [
    "Q4. Write a code to find the following characteristics of variable, num_array:\n",
    "    \n",
    "(i) shape\n",
    "\n",
    "(ii) size"
   ]
  },
  {
   "cell_type": "code",
   "execution_count": 24,
   "id": "c8b2f0ab-5c31-477b-89ea-5bde85cd2ad2",
   "metadata": {},
   "outputs": [
    {
     "data": {
      "text/plain": [
       "(2, 3)"
      ]
     },
     "execution_count": 24,
     "metadata": {},
     "output_type": "execute_result"
    }
   ],
   "source": [
    "num_array.shape"
   ]
  },
  {
   "cell_type": "code",
   "execution_count": 25,
   "id": "f0fc8b5e-3fe0-400e-951b-78060d556b14",
   "metadata": {},
   "outputs": [
    {
     "data": {
      "text/plain": [
       "6"
      ]
     },
     "execution_count": 25,
     "metadata": {},
     "output_type": "execute_result"
    }
   ],
   "source": [
    "num_array.size"
   ]
  },
  {
   "cell_type": "markdown",
   "id": "43edaf9f-4f81-4694-a308-9acb35683d63",
   "metadata": {},
   "source": [
    "Q5. Write a code to create numpy array of 3*3 matrix containing zeros only, using a numpy array\n",
    "creation function.\n",
    "[Hint: The size of the array will be 9 and the shape will be (3,3).]"
   ]
  },
  {
   "cell_type": "code",
   "execution_count": 32,
   "id": "7ee8ee66-a030-44a6-ae05-f5fe78a18ae3",
   "metadata": {},
   "outputs": [
    {
     "data": {
      "text/plain": [
       "array([[0., 0., 0.],\n",
       "       [0., 0., 0.],\n",
       "       [0., 0., 0.]])"
      ]
     },
     "execution_count": 32,
     "metadata": {},
     "output_type": "execute_result"
    }
   ],
   "source": [
    "matrix_arr = np.zeros((3,3))\n",
    "matrix_arr"
   ]
  },
  {
   "cell_type": "code",
   "execution_count": 35,
   "id": "f2d9c014-2fc3-4e91-a4f2-1e74ec03cb6f",
   "metadata": {},
   "outputs": [
    {
     "data": {
      "text/plain": [
       "(3, 3)"
      ]
     },
     "execution_count": 35,
     "metadata": {},
     "output_type": "execute_result"
    }
   ],
   "source": [
    "matrix_arr.shape"
   ]
  },
  {
   "cell_type": "code",
   "execution_count": 34,
   "id": "ff42479b-0422-4230-ad5e-d73974be96dc",
   "metadata": {},
   "outputs": [
    {
     "data": {
      "text/plain": [
       "9"
      ]
     },
     "execution_count": 34,
     "metadata": {},
     "output_type": "execute_result"
    }
   ],
   "source": [
    "matrix_arr.size"
   ]
  },
  {
   "cell_type": "markdown",
   "id": "355e2185-7ff9-4e06-9975-e50b01ff9118",
   "metadata": {},
   "source": [
    "Q6. Create an identity matrix of shape (5,5) using numpy functions?\n",
    "[Hint: An identity matrix is a matrix containing 1 diagonally and other elements will be 0.]"
   ]
  },
  {
   "cell_type": "code",
   "execution_count": 38,
   "id": "36d71a7b-551e-418c-8e65-018d8fd05157",
   "metadata": {},
   "outputs": [
    {
     "data": {
      "text/plain": [
       "array([[1., 0., 0., 0., 0.],\n",
       "       [0., 1., 0., 0., 0.],\n",
       "       [0., 0., 1., 0., 0.],\n",
       "       [0., 0., 0., 1., 0.],\n",
       "       [0., 0., 0., 0., 1.]])"
      ]
     },
     "execution_count": 38,
     "metadata": {},
     "output_type": "execute_result"
    }
   ],
   "source": [
    "np.eye(5,5)"
   ]
  },
  {
   "cell_type": "code",
   "execution_count": null,
   "id": "0ac04c74-1f6e-43eb-9de5-b2a301314a19",
   "metadata": {},
   "outputs": [],
   "source": []
  }
 ],
 "metadata": {
  "kernelspec": {
   "display_name": "Python 3 (ipykernel)",
   "language": "python",
   "name": "python3"
  },
  "language_info": {
   "codemirror_mode": {
    "name": "ipython",
    "version": 3
   },
   "file_extension": ".py",
   "mimetype": "text/x-python",
   "name": "python",
   "nbconvert_exporter": "python",
   "pygments_lexer": "ipython3",
   "version": "3.10.8"
  }
 },
 "nbformat": 4,
 "nbformat_minor": 5
}
